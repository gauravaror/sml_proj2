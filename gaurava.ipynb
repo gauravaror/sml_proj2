{
 "cells": [
  {
   "cell_type": "markdown",
   "metadata": {},
   "source": [
    "# COMP90051 Project 2"
   ]
  },
  {
   "cell_type": "code",
   "execution_count": 1,
   "metadata": {},
   "outputs": [],
   "source": [
    "# Do not edit. These are the only imports permitted.\n",
    "%matplotlib inline\n",
    "import numpy as np\n",
    "from numpy.linalg import inv\n",
    "import matplotlib.pyplot as plt\n",
    "from abc import ABC, abstractmethod"
   ]
  },
  {
   "cell_type": "markdown",
   "metadata": {},
   "source": [
    "## 1. Implementing ε-Greedy and UCB"
   ]
  },
  {
   "cell_type": "code",
   "execution_count": 2,
   "metadata": {},
   "outputs": [],
   "source": [
    "class MAB(ABC):\n",
    "    \"\"\"\n",
    "    Abstract class that represents a multi-armed bandit (MAB)\n",
    "    \"\"\"    \n",
    "    @abstractmethod\n",
    "    def play(self, tround, context):\n",
    "        \"\"\"\n",
    "        Play a round\n",
    "        \n",
    "        Arguments\n",
    "        =========\n",
    "        tround : int\n",
    "            positive integer identifying the round\n",
    "        \n",
    "        context : 1D float array, shape (self.ndims * self.narms), optional\n",
    "            context given to the arms\n",
    "        \n",
    "        Returns\n",
    "        =======\n",
    "        arm : int\n",
    "            the positive integer arm id for this round\n",
    "        \"\"\"\n",
    "\n",
    "    \n",
    "    @abstractmethod\n",
    "    def update(self, arm, reward, context):\n",
    "        \"\"\"\n",
    "        Updates the internal state of the MAB after a play\n",
    "        \n",
    "        Arguments\n",
    "        =========\n",
    "        arm : int\n",
    "            a positive integer arm id in {1, ..., self.narms}\n",
    "        \n",
    "        reward : float\n",
    "            reward received from arm\n",
    "        \n",
    "        context : 1D float array, shape (self.ndims * self.narms), optional\n",
    "            context given to arms\n",
    "        \"\"\""
   ]
  },
  {
   "cell_type": "code",
   "execution_count": 3,
   "metadata": {},
   "outputs": [],
   "source": [
    "class EpsGreedy(MAB):\n",
    "    \"\"\"\n",
    "    Epsilon-Greedy multi-armed bandit\n",
    "\n",
    "    Arguments\n",
    "    =========\n",
    "    narms : int\n",
    "        number of arms\n",
    "\n",
    "    epsilon : float\n",
    "        explore probability\n",
    "\n",
    "    Q0 : float, optional\n",
    "        initial value for the arms\n",
    "    \"\"\"\n",
    "    \n",
    "    def __init__(self, narms, epsilon, Q0=np.inf):\n",
    "        if (narms <= 0):\n",
    "            raise ValueError('Number of arms must be a greater than zero.')   \n",
    "        if not ((epsilon >= 0) and (epsilon <= 1)):\n",
    "            raise ValueError('epsilon must be a probability.')   \n",
    "            \n",
    "        # This maintains the accumlated rewards\n",
    "        # for each arm.\n",
    "        self.accumulated_reward = np.full((narms), 0)\n",
    "        # This calculate number of times each arm is picked.\n",
    "        self.arm_picked = np.full((narms), 0)\n",
    "        # Input argument describing number of arms.\n",
    "        self.narms = narms\n",
    "\n",
    "        self.Q0 = Q0\n",
    "        self.epsilon = epsilon\n",
    "        \n",
    "    def Qfunction(self):\n",
    "        # This calculates the actual Q function based on if the arm\n",
    "        # has been picked or not picked yet.\n",
    "        # If arm is not picked, we used the Q0 as our Q value for that arm.\n",
    "        # If arm is picked then, mean reward observed is used as the Qvalue for that arm.\n",
    "        qvals = np.zeros(self.narms)\n",
    "        for i in range(self.narms):\n",
    "            # If arm is not currently picked use the old value value provided by Q0\n",
    "            if (self.arm_picked[i] == 0):\n",
    "                qvals[i] = self.Q0\n",
    "            else:\n",
    "                # Calculate the value for Q using accumulated rewards if arm was ever picked.\n",
    "                qvals[i] = self.accumulated_reward[i]/self.arm_picked[i]\n",
    "        return qvals\n",
    "        \n",
    "    def play(self, tround, context=None):\n",
    "        if (tround <= 0):\n",
    "            raise ValueError('tround must be a positive integer.')   \n",
    "        # Choose whether to explore (with probabilty epsilon) and exploit rest of the time.\n",
    "        try_new = np.random.choice([1,0],p=[self.epsilon, 1-self.epsilon])\n",
    "        if try_new:\n",
    "            return np.random.randint(low=1, high=self.narms)\n",
    "        else:\n",
    "            # This calculates the Q value for each arm.\n",
    "            Q = self.Qfunction()\n",
    "            # Pick randomly out of arm with maximum value. \n",
    "            # flatnonzero : Return indices that are non-zero as we want to tie-break randomly\n",
    "            # which is done using random.choice function.\n",
    "            # Increment index to match the spec.\n",
    "            return np.random.choice(np.flatnonzero(Q == Q.max())) + 1\n",
    "        \n",
    "    def update(self, arm, reward, context=None):\n",
    "        if not ((arm > 0) and (arm <= self.narms)):\n",
    "            raise ValueError('arm must be in {1, ...., self.narms}.')   \n",
    "        # Since accumulated rewards are initalized with zero. We can directly maintain\n",
    "        # sum of average reward. We preferred using a simpler implementation we could just maintain\n",
    "        # running average reward for each arm aswell.\n",
    "        \n",
    "        # Internally for convinence we maintain rewards from 0 to n-1. \n",
    "        # We are substracting 1 from the arm index to match implementation\n",
    "        # as python index starts from zero.\n",
    "        self.accumulated_reward[arm - 1] += reward\n",
    "        self.arm_picked[arm - 1] += 1\n",
    "        \n",
    "    "
   ]
  },
  {
   "cell_type": "code",
   "execution_count": 4,
   "metadata": {},
   "outputs": [],
   "source": [
    "class UCB(MAB):\n",
    "    \"\"\"\n",
    "    Upper Confidence Bound (UCB) multi-armed bandit\n",
    "\n",
    "    Arguments\n",
    "    =========\n",
    "    narms : int\n",
    "        number of arms\n",
    "\n",
    "    rho : float\n",
    "        positive real explore-exploit parameter\n",
    "\n",
    "    Q0 : float, optional\n",
    "        initial value for the arms\n",
    "    \"\"\"\n",
    "    \n",
    "    def __init__(self, narms, rho, Q0=np.inf):\n",
    "        if (narms <= 0):\n",
    "            raise ValueError('Number of arms must be a greater than zero.')   \n",
    "        if (rho <= 0):\n",
    "            raise ValueError('rho must be a positive real explore-exploit parameter.')\n",
    "        # This maintains the accumlated rewards\n",
    "        # for each arm.\n",
    "        self.accumulated_reward = np.full((narms), 0)\n",
    "        # This calculate number of times each arm is picked.\n",
    "        self.arm_picked = np.full((narms), 0)\n",
    "        # Input argument describing number of arms.\n",
    "        self.narms = narms        \n",
    "        self.Q0 = Q0        \n",
    "        self.rho = rho\n",
    "\n",
    "    \n",
    "    def play(self, tround, context=None):\n",
    "        if (tround <= 0):\n",
    "            raise ValueError('tround must be a positive integer.')   \n",
    "        qvals = np.zeros(self.narms)\n",
    "        for i in range(self.narms):\n",
    "            if (self.arm_picked[i] == 0):\n",
    "                qvals[i] = self.Q0\n",
    "            else:\n",
    "                # This is upper confidence bound clalculation based on Hoeffding's inequality.\n",
    "                # This tries to maintain a balance between arm which are explored.\n",
    "                cal_ucb = np.sqrt(self.rho*(np.log(tround)/self.arm_picked[i]))\n",
    "                # Calculate the Q Value with average reward observed and upper confidence bound.\n",
    "                qvals[i] = (self.accumulated_reward[i]/self.arm_picked[i]) + cal_ucb\n",
    "        # Select arm similar to EpsGreedy, tie-breaking randomly.\n",
    "        return np.random.choice(np.flatnonzero(qvals == qvals.max())) + 1\n",
    "\n",
    "        \n",
    "    def update(self, arm, reward, context=None):\n",
    "        if not ((arm > 0) and (arm <= self.narms)):\n",
    "            raise ValueError('arm must be in {1, ...., self.narms}.')   \n",
    "        # Since accumulated rewards are initalized with zero. We can directly maintain\n",
    "        # sum of average reward. We preferred using a simpler implementation we could just maintain\n",
    "        # running average reward for each arm aswell.\n",
    "        self.accumulated_reward[arm-1] += reward\n",
    "        self.arm_picked[arm-1] += 1\n",
    " \n",
    "    "
   ]
  },
  {
   "cell_type": "markdown",
   "metadata": {},
   "source": [
    "## 2. The Basic Thompson Bandit"
   ]
  },
  {
   "cell_type": "code",
   "execution_count": 5,
   "metadata": {},
   "outputs": [],
   "source": [
    "class BetaThompson(MAB):\n",
    "    \"\"\"\n",
    "    Beta-Bernoulli Thompson sampling multi-armed bandit\n",
    "\n",
    "    Arguments\n",
    "    =========\n",
    "    narms : int\n",
    "        number of arms\n",
    "\n",
    "    alpha0 : float, optional\n",
    "        positive real prior hyperparameter\n",
    "\n",
    "    beta0 : float, optionala\n",
    "        positive real prior hyperparameter\n",
    "    \"\"\"\n",
    "    \n",
    "    def __init__(self, narms, alpha0=1.0, beta0=1.0):\n",
    "        if (narms <= 0):\n",
    "            raise ValueError('Number of arms must be a greater than zero.')   \n",
    "        if (alpha0 <= 0):\n",
    "            raise ValueError('alpha0 must be a positive real prior hyperparameter.')\n",
    "        if (beta0 <= 0):\n",
    "            raise ValueError('beta0 must be a positive real prior hyperparameter.')\n",
    "        self.alpha = alpha0\n",
    "        self.beta = beta0\n",
    "        # This maintains the accumlated rewards\n",
    "        # for each arm.\n",
    "        self.accumulated_reward = np.full((narms), 0)\n",
    "        # This calculate number of times each arm is picked.\n",
    "        self.arm_picked = np.full((narms), 0)\n",
    "        # Input argument describing number of arms.\n",
    "        self.narms = narms\n",
    "        \n",
    "    def play(self, tround, context=None):\n",
    "        if (tround <= 0):\n",
    "            raise ValueError('tround must be a positive integer.')   \n",
    "        sampled_means = np.zeros(self.narms)\n",
    "        for arm in range(self.narms):\n",
    "            success = self.accumulated_reward[arm]\n",
    "            failure = self.arm_picked[arm] - success\n",
    "            # Sample from the posterior distribution. Since this is we know the form of posterior\n",
    "            # analytically. We didn't maintain the prior and directly sampled the mean \n",
    "            # fromm of posterior while sampling.\n",
    "            sampled_means[arm] = np.random.beta(success + self.alpha , failure + self.beta)\n",
    "        # Paper mentions to do tie- breaking arbitrary.\n",
    "        return np.random.choice(np.flatnonzero(sampled_means == sampled_means.max())) + 1\n",
    "        \n",
    "        \n",
    "    def update(self, arm, reward, context=None):\n",
    "        if not ((arm > 0) and (arm <= self.narms)):\n",
    "            raise ValueError('arm must be in {1, ...., self.narms}.')   \n",
    "        # Algorithm asks to sample a bernoulli taking reward as probability.\n",
    "        # This is not higly relevant for us as our rewards are already 0 and 1.\n",
    "        # But it gives the same answe as we sample 1 with probability 1.\n",
    "        # Hence we implemented generic version of the algorithm which is present in Algorithm 2 in \n",
    "        # paper.\n",
    "        reward_bernoulli = np.random.choice([1,0],p=[reward, 1-reward])\n",
    "        if reward_bernoulli:\n",
    "            self.accumulated_reward[arm - 1] += 1\n",
    "        self.arm_picked[arm - 1] += 1\n"
   ]
  },
  {
   "cell_type": "markdown",
   "metadata": {},
   "source": [
    "## 3. Off-Policy Evaluation"
   ]
  },
  {
   "cell_type": "code",
   "execution_count": 6,
   "metadata": {},
   "outputs": [],
   "source": [
    "def offlineEvaluate(mab, arms, rewards, contexts, nrounds=None):\n",
    "    \"\"\"\n",
    "    Offline evaluation of a multi-armed bandit\n",
    "    \n",
    "    Arguments\n",
    "    =========\n",
    "    mab : instance of MAB\n",
    "    \n",
    "    arms : 1D int array, shape (nevents,) \n",
    "        integer arm id for each event\n",
    "    \n",
    "    rewards : 1D float array, shape (nevents,)\n",
    "        reward received for each event\n",
    "    \n",
    "    contexts : 2D float array, shape (nevents, mab.narms*nfeatures)\n",
    "        contexts presented to the arms (stacked horizontally) \n",
    "        for each event.\n",
    "        \n",
    "    nrounds : int, optional\n",
    "        number of matching events to evaluate `mab` on.\n",
    "    \n",
    "    Returns\n",
    "    =======\n",
    "    out : 1D float array\n",
    "        rewards for the matching events\n",
    "    \"\"\"\n",
    "    \n",
    "    #################  NOTE  ###################################################\n",
    "    # Since our Multi arm bandit works with arm id 0-N\n",
    "    # This log file is based on arm ids 1 to N.  \n",
    "    # We reset the arm id in Bandit classes to confer with spec of provided abstract class.\n",
    "    ############################################################################\n",
    "    \n",
    "    # Check input is in right format.\n",
    "    if not isinstance(mab, MAB):\n",
    "        raise ValueError(\"First argument must be instance of Multi Arm bandit abstract class MAB.\")\n",
    "    if not arms.ndim == 1:\n",
    "        raise ValueError(\"Arms need to be 1D float array, shape (nevents,)\")\n",
    "    if not rewards.ndim == 1:\n",
    "        raise ValueError(\"Reward need to be 1D float array, shape (nevents,)\")\n",
    "    if not contexts.ndim == 2:\n",
    "        raise ValueError(\"Contexts need to be 2D float array. shape (nevents, mab.narms*nfeatures)\")\n",
    "    if not ((len(arms) == len(rewards)) and (len(arms) == len(contexts))):\n",
    "        raise ValueError(\"Arms, Contexts and Rewards should be equal in size.\")\n",
    "\n",
    "    total_reward = []\n",
    "    current_event = 0\n",
    "    max_events = len(arms)\n",
    "    \n",
    "    # If number of rounds are not provided.\n",
    "    # Considering each event becomes a round.\n",
    "    # Setting reasonable maximum number of rounds.\n",
    "    if not nrounds:\n",
    "        nrounds = max_events\n",
    "    # Iterate through all the round\n",
    "    for event in range(nrounds):\n",
    "        # event is incremented in a new round and not number of event from log file. \n",
    "        pulled_arm = mab.play(event + 1, contexts[current_event])\n",
    "        # We only consider and use events where our player arm matches with in logs.\n",
    "        while(pulled_arm != arms[current_event]):\n",
    "            current_event += 1\n",
    "            # If we have exhausted total number of events then return total rewards.\n",
    "            if (current_event >= max_events):\n",
    "                return total_reward\n",
    "            # Since LinUCB used context. We need to play and get new arm for each new event.\n",
    "            pulled_arm = mab.play(event + 1, contexts[current_event])\n",
    "        mab.update(arms[current_event], rewards[current_event], contexts[current_event])\n",
    "        total_reward.append(rewards[current_event])\n",
    "        # Since last event matched and we have performed update for that. increment, without this\n",
    "        # we reuse old event which isn't desirable.\n",
    "        current_event += 1\n",
    "        # If we have exhausted total number of events then return total rewards.\n",
    "        if (current_event >= max_events):\n",
    "            return total_reward\n",
    "    return total_reward"
   ]
  },
  {
   "cell_type": "code",
   "execution_count": 7,
   "metadata": {},
   "outputs": [],
   "source": [
    "arms = []\n",
    "rewards = []\n",
    "contexts = []\n",
    "# Read the file line by line and splot on space\n",
    "# Based on spec provided for dataset.txt\n",
    "with open('dataset.txt') as f:\n",
    "    line = f.readline()\n",
    "    while line:\n",
    "        line_splits = line.split(' ')\n",
    "        arms.append(int(line_splits[0]))\n",
    "        rewards.append(int(line_splits[1]))\n",
    "        contexts.append(np.array(line_splits[2:-1]))\n",
    "        line = f.readline()\n",
    "\n",
    "# Make arms, rewards and context as per spec of classes.\n",
    "arms = np.array(arms)\n",
    "rewards = np.array(rewards)\n",
    "contexts = np.array(contexts)"
   ]
  },
  {
   "cell_type": "code",
   "execution_count": 8,
   "metadata": {},
   "outputs": [
    {
     "name": "stdout",
     "output_type": "stream",
     "text": [
      "EpsGreedy average reward 0.175\n"
     ]
    }
   ],
   "source": [
    "mab = EpsGreedy(10, 0.05)\n",
    "results_EpsGreedy = offlineEvaluate(mab, arms, rewards, contexts, 800)\n",
    "print('EpsGreedy average reward', np.mean(results_EpsGreedy))"
   ]
  },
  {
   "cell_type": "code",
   "execution_count": 9,
   "metadata": {},
   "outputs": [
    {
     "name": "stdout",
     "output_type": "stream",
     "text": [
      "UCB average reward 0.1525\n"
     ]
    }
   ],
   "source": [
    "mab = UCB(10, 1.0)\n",
    "results_UCB = offlineEvaluate(mab, arms, rewards, contexts, 800)\n",
    "print('UCB average reward', np.mean(results_UCB))"
   ]
  },
  {
   "cell_type": "code",
   "execution_count": 10,
   "metadata": {},
   "outputs": [
    {
     "name": "stdout",
     "output_type": "stream",
     "text": [
      "BetaThompson average reward 0.2275\n"
     ]
    }
   ],
   "source": [
    "mab = BetaThompson(10, 1.0, 1.0)\n",
    "results_BetaThompson = offlineEvaluate(mab, arms, rewards, contexts, 800)\n",
    "print('BetaThompson average reward', np.mean(results_BetaThompson))"
   ]
  },
  {
   "cell_type": "markdown",
   "metadata": {},
   "source": [
    "## 4. Contextual Bandits - LinUCB"
   ]
  },
  {
   "cell_type": "code",
   "execution_count": 11,
   "metadata": {},
   "outputs": [],
   "source": [
    "class LinUCB(MAB):\n",
    "    \"\"\"\n",
    "    Contextual multi-armed bandit (LinUCB)\n",
    "\n",
    "    Arguments\n",
    "    =========\n",
    "    narms : int\n",
    "        number of arms\n",
    "\n",
    "    ndims : int\n",
    "        number of dimensions for each arm's context\n",
    "\n",
    "    alpha : float\n",
    "        positive real explore-exploit parameter\n",
    "    \"\"\"\n",
    "    \n",
    "    def __init__(self, narms, ndims, alpha):    \n",
    "        # Check inputs \n",
    "        if (narms <= 0):\n",
    "            raise ValueError('Number of arms must be a greater than zero.')   \n",
    "        if (alpha <= 0):\n",
    "            raise ValueError(\"alpha needs to be positibe real explore-exploit parameter.\")\n",
    "        if not (ndims > 0):\n",
    "            raise ValueError(\"number of dimensions for each arm's context need to be positive\")\n",
    "            \n",
    "        # This maintains the accumlated rewards\n",
    "        # for each arm.\n",
    "        self.accumulated_reward = np.full((narms), 0)\n",
    "        # This calculate number of times each arm is picked.\n",
    "        self.arm_picked = np.full((narms), 0)\n",
    "        # Input argument describing number of arms.\n",
    "        self.narms = narms\n",
    "        self.alpha = alpha\n",
    "        self.ndims = ndims\n",
    "        \n",
    "        # Inverse of A acts as covariance matrix on feature space.\n",
    "        self.A = [np.identity(ndims) for _ in range(narms)]\n",
    "        # This tracks the accumulated rewards as weights (guassian means) are\n",
    "        # considered the linear model.\n",
    "        self.b = [np.zeros((ndims,1))  for _ in range(narms)]\n",
    "        \n",
    "    def play(self, tround, context):\n",
    "        if (tround <= 0):\n",
    "            raise ValueError('tround must be a positive integer.')   \n",
    "        if not context.ndim == 1:\n",
    "            raise ValueError(\"Context need to be 1D float array, shape (self.ndims * self.narms)\")\n",
    "        # Reshape the context into 10x10 matrix to have 10 feature for each arm\n",
    "        # As we need to do regression and as we need to do matrix manipulation below.\n",
    "        context = context.reshape((10,10), order='C').astype(int)\n",
    "        \n",
    "        # Initialize q function with zeros to calculate q function below.\n",
    "        current_q = np.zeros(self.narms)\n",
    "        for arm in range(self.narms):\n",
    "            a_inverse = np.linalg.inv(self.A[arm])\n",
    "            # Find the means using ridge regression.\n",
    "            theta = a_inverse@self.b[arm]\n",
    "            curr_context = np.array(context[arm]).reshape(self.ndims,1)\n",
    "            current_sd = curr_context.T@(a_inverse@curr_context)\n",
    "            # Calculate the Q value using mean and standard-deviation as we consider setup like ridge regression.\n",
    "            current_q[arm] = (theta.T)@curr_context + self.alpha*np.sqrt(current_sd[0][0])\n",
    "            \n",
    "        # Ties broken arbirary.\n",
    "        return np.random.choice(np.flatnonzero(current_q == current_q.max())) + 1\n",
    "    \n",
    "    def update(self, arm, reward, context):\n",
    "        if not context.ndim == 1:\n",
    "            raise ValueError(\"Context need to be 1D float array, shape (self.ndims * self.narms)\")\n",
    "        if not ((arm > 0) and (arm <= self.narms)):\n",
    "            raise ValueError('arm must be in {1, ...., self.narms}.')   \n",
    "\n",
    "        # Reshape context to match 10x10 for matrix multication.\n",
    "        # Further convert the context to column vector.\n",
    "        context = context.reshape((10,10), order='C').astype(int)\n",
    "        curr_context = np.array(context[arm-1]).reshape(self.ndims,1)\n",
    "        # Update positerior for ridge regression.\n",
    "        self.A[arm-1] += curr_context@(curr_context.T)\n",
    "        self.b[arm-1] += reward*curr_context\n",
    "    "
   ]
  },
  {
   "cell_type": "code",
   "execution_count": 12,
   "metadata": {},
   "outputs": [
    {
     "name": "stdout",
     "output_type": "stream",
     "text": [
      "LinUCB average reward 0.53\n"
     ]
    }
   ],
   "source": [
    "mab = LinUCB(10, 10, 1.0)\n",
    "results_LinUCB = offlineEvaluate(mab, arms, rewards, contexts, 800)\n",
    "print('LinUCB average reward', np.mean(results_LinUCB))"
   ]
  },
  {
   "cell_type": "markdown",
   "metadata": {},
   "source": [
    "## 5. Contextual Bandits - LinThompson"
   ]
  },
  {
   "cell_type": "code",
   "execution_count": 13,
   "metadata": {},
   "outputs": [],
   "source": [
    "class LinThompson(MAB):\n",
    "    \"\"\"\n",
    "    Contextual Thompson sampled multi-armed bandit (LinThompson)\n",
    "\n",
    "    Arguments\n",
    "    =========\n",
    "    narms : int\n",
    "        number of arms\n",
    "\n",
    "    ndims : int\n",
    "        number of dimensions for each arm's context\n",
    "\n",
    "    v : float\n",
    "        positive real explore-exploit parameter\n",
    "    \"\"\"\n",
    "    \n",
    "    def __init__(self, narms, ndims, v):\n",
    "        if (narms <= 0):\n",
    "            raise ValueError('Number of arms must be a greater than zero.')   \n",
    "        if (v <= 0):\n",
    "            raise ValueError(\"v must be positive real number representing explore-exploit parameter\")\n",
    "        if not (ndims > 0):\n",
    "            raise ValueError(\"number of dimensions for each arm's context need to be positive\")\n",
    "            \n",
    "        # This maintains the accumlated rewards\n",
    "        # for each arm.\n",
    "        self.accumulated_reward = np.full((narms), 0)\n",
    "        # This calculate number of times each arm is picked.\n",
    "        self.arm_picked = np.full((narms), 0)\n",
    "        # Input argument describing number of arms.\n",
    "        self.narms = narms\n",
    "\n",
    "        # Intialize Parameters for our multivariate normal.\n",
    "        # Single mu and B are maintained as conceptually this algorithm\n",
    "        # works on infinite number of arms with slighly worse regret bounds.\n",
    "        self.B = np.identity(ndims)\n",
    "        self.mu = np.zeros(ndims)\n",
    "        self.f = np.zeros((ndims,1))\n",
    "        self.v = v\n",
    "        self.ndims = ndims\n",
    "       \n",
    "        \n",
    "    def play(self, tround, context):\n",
    "        if (tround <= 0):\n",
    "            raise ValueError('tround must be a positive integer.')   \n",
    "        if not context.ndim == 1:\n",
    "            raise ValueError(\"Context need to be 1D float array, shape (self.ndims * self.narms)\")\n",
    "        # Reshape the context into 10x10 matrix to have 10 feature for each arm\n",
    "        # As we need to do regression and as we need to do matrix manipulation below.\n",
    "        context = context.reshape((10,10), order='C').astype(int)\n",
    "        current_q = np.zeros(self.narms)\n",
    "        \n",
    "        # Sample params for regression using the current mean and co-variance \n",
    "        # from multi-variate normal via Thompson sampling. \n",
    "        sampled_params = np.random.multivariate_normal(self.mu, (self.v**2)*np.linalg.inv(self.B))\n",
    "        \n",
    "        for arm in range(self.narms):\n",
    "            # Reshape context as colum vector for calculating the q function.\n",
    "            curr_context = np.array(context[arm]).reshape(self.ndims,1)\n",
    "            # Expected rewards are considered linear function of rewards.\n",
    "            # We get the current Q value using the context and sampled parameters\n",
    "            # from multi-variate gaussian.\n",
    "            current_q[arm] = (curr_context.T)@sampled_params\n",
    "        return np.random.choice(np.flatnonzero(current_q == current_q.max())) + 1\n",
    "       \n",
    "    def update(self, arm, reward, context):\n",
    "        if not context.ndim == 1:\n",
    "            raise ValueError(\"Context need to be 1D float array, shape (self.ndims * self.narms)\")\n",
    "        if not ((arm > 0) and (arm <= self.narms)):\n",
    "            raise ValueError('arm must be in {1, ...., self.narms}.')   \n",
    "        context = context.reshape((10,10), order='C').astype(int)\n",
    "        curr_context = np.array(context[arm - 1]).reshape(self.ndims,1)\n",
    "        # Update expected rewards, mean similar to LinUCB.\n",
    "        # Update parameter based on positerior\n",
    "        self.B += curr_context@(curr_context.T)\n",
    "        self.f += reward*curr_context\n",
    "        # Update to get the posterior mean\n",
    "        self.mu = (np.linalg.inv(self.B)@self.f).reshape(self.ndims)\n",
    "    "
   ]
  },
  {
   "cell_type": "code",
   "execution_count": 14,
   "metadata": {},
   "outputs": [
    {
     "name": "stdout",
     "output_type": "stream",
     "text": [
      "LinThompson average reward 0.325\n"
     ]
    }
   ],
   "source": [
    "mab = LinThompson(10, 10, 1.0)\n",
    "results_LinThompson = offlineEvaluate(mab, arms, rewards, contexts, 800)\n",
    "print('LinThompson average reward', np.mean(results_LinThompson))"
   ]
  },
  {
   "cell_type": "markdown",
   "metadata": {},
   "source": [
    "## 6. Evaluation\n",
    "### 6.A."
   ]
  },
  {
   "cell_type": "code",
   "execution_count": 15,
   "metadata": {},
   "outputs": [
    {
     "data": {
      "image/png": "[encoded data removed]",
      "text/plain": [
       "<Figure size 432x288 with 1 Axes>"
      ]
     },
     "metadata": {
      "needs_background": "light"
     },
     "output_type": "display_data"
    }
   ],
   "source": [
    "def get_cumulative(result):\n",
    "    return [sum(result[0:i]) for i in range(len(result))]\n",
    "\n",
    "results_EpsGreedy_cum = get_cumulative(results_EpsGreedy)\n",
    "plt.plot(results_EpsGreedy_cum, label='EpsGreedy')\n",
    "\n",
    "results_UCB_cum = get_cumulative(results_UCB)\n",
    "plt.plot(results_UCB_cum, label='UCB')\n",
    "\n",
    "results_BetaThompson_cum = get_cumulative(results_BetaThompson)\n",
    "plt.plot(results_BetaThompson_cum, label='BetaThompson')\n",
    "\n",
    "results_LinUCB_cum = get_cumulative(results_LinUCB)\n",
    "plt.plot(results_LinUCB_cum, label='LinUCB')\n",
    "\n",
    "results_LinThompson_cum = get_cumulative(results_LinThompson)\n",
    "plt.plot(results_LinThompson_cum, label='LinThompson')\n",
    "\n",
    "plt.legend()\n",
    "plt.show()"
   ]
  },
  {
   "cell_type": "code",
   "execution_count": 16,
   "metadata": {},
   "outputs": [
    {
     "data": {
      "image/png": "[encoded data removed]",
      "text/plain": [
       "<Figure size 432x288 with 1 Axes>"
      ]
     },
     "metadata": {
      "needs_background": "light"
     },
     "output_type": "display_data"
    }
   ],
   "source": [
    "# Since above results are on single run and it's better to consider averaged results over many episodes.\n",
    "# We calculate results by averaging over 100 episodes.\n",
    "# Resuts by averaging over 100 episods\n",
    "def run_100_episods(mab):\n",
    "    results=[]\n",
    "    for i in range(100):\n",
    "        results.append(offlineEvaluate(mab, arms, rewards, contexts, 800))\n",
    "    results_array = np.array(results)\n",
    "    mean_results = np.mean(results_array, axis=0)\n",
    "    return get_cumulative(mean_results)\n",
    "\n",
    "results_EpsGreedy_100 = run_100_episods(EpsGreedy(10, 0.05))\n",
    "plt.plot(results_EpsGreedy_100, label='EpsGreedy')\n",
    "\n",
    "results_UCB_100 = run_100_episods(UCB(10, 1.0))\n",
    "plt.plot(results_UCB_100, label='UCB')\n",
    "\n",
    "results_BetaThompson_100 = run_100_episods(BetaThompson(10, 1.0, 1.0))\n",
    "plt.plot(results_BetaThompson_100, label='BetaThompson')\n",
    "\n",
    "results_LinUCB_100 = run_100_episods(LinUCB(10, 10, 1.0))\n",
    "plt.plot(results_LinUCB_100, label='LinUCB')\n",
    "\n",
    "results_LinThompson_100 = run_100_episods(LinThompson(10, 10, 1.0))\n",
    "plt.plot(results_LinThompson_100, label='LinThompson')\n",
    "\n",
    "plt.legend()\n",
    "plt.show()"
   ]
  },
  {
   "cell_type": "markdown",
   "metadata": {},
   "source": [
    "**Expaination from above graph:** This gives us better view of how alogirthms performs against each other EpsilonGreedy, UCB, BetaThompson perform very close to each other unlike instantitious graph above which shows a lot of variation. "
   ]
  },
  {
   "cell_type": "markdown",
   "metadata": {},
   "source": [
    "### 6.B."
   ]
  },
  {
   "cell_type": "code",
   "execution_count": 17,
   "metadata": {},
   "outputs": [
    {
     "name": "stdout",
     "output_type": "stream",
     "text": [
      "Max value of LinThompson is  0.46625  at v =  0.10354137931034484\n",
      "Max value of LinUCB is  0.7325  at alpha =  0.05182068965517242\n"
     ]
    },
    {
     "data": {
      "image/png": "[encoded data removed]",
      "text/plain": [
       "<Figure size 432x288 with 1 Axes>"
      ]
     },
     "metadata": {
      "needs_background": "light"
     },
     "output_type": "display_data"
    }
   ],
   "source": [
    "# Even though the parameter range for v and alpha is unbounded. Initial tinkering with large step size\n",
    "# relvealed than it keeps decreasing after value of 1. \n",
    "# So here we consider only a small range from 0.0001 to 1.5 on linear space with 30 values.\n",
    "# Since the range of both the similar hyper-parameter range. We draw them on same graph.\n",
    "# Grid Search for v in LinThompson\n",
    "grid_v = np.linspace(0.0001,1.5,num=30)\n",
    "# Grid Search for alpha in LinUCB\n",
    "grid_alpha = np.linspace(0.0001,1.5,num=30)\n",
    "results_grid_v = np.zeros(grid_v.shape[0])\n",
    "results_grid_alpha = np.zeros(grid_alpha.shape[0])\n",
    "for i in range(grid_v.shape[0]):\n",
    "    mab = LinThompson(10, 10, grid_v[i])\n",
    "    results_grid_v[i] = np.mean(offlineEvaluate(mab, arms, rewards, contexts, 800))\n",
    "for i in range(grid_alpha.shape[0]):\n",
    "    mab = LinUCB(10, 10, grid_alpha[i])\n",
    "    results_grid_alpha[i] = np.mean(offlineEvaluate(mab, arms, rewards, contexts, 800))\n",
    "\n",
    "# Since both are working on the similar range, we used single graph.\n",
    "plt.plot(grid_v, results_grid_v, label='LinThompson')\n",
    "plt.plot(grid_alpha, results_grid_alpha, label='LinUCB')\n",
    "print(\"Max value of LinThompson is \", np.max(results_grid_v), \" at v = \", grid_v[np.argmax(results_grid_v)])\n",
    "print(\"Max value of LinUCB is \", np.max(results_grid_alpha), \" at alpha = \", grid_alpha[np.argmax(results_grid_alpha)])\n",
    "plt.legend()\n",
    "plt.show()"
   ]
  }
 ],
 "metadata": {
  "kernelspec": {
   "display_name": "Python 3",
   "language": "python",
   "name": "python3"
  },
  "language_info": {
   "codemirror_mode": {
    "name": "ipython",
    "version": 3
   },
   "file_extension": ".py",
   "mimetype": "text/x-python",
   "name": "python",
   "nbconvert_exporter": "python",
   "pygments_lexer": "ipython3",
   "version": "3.7.3"
  }
 },
 "nbformat": 4,
 "nbformat_minor": 2
}
